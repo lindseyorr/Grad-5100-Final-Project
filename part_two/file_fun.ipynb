{
 "cells": [
  {
   "cell_type": "code",
   "execution_count": 22,
   "metadata": {},
   "outputs": [],
   "source": [
    "import os\n",
    "import pandas as pd\n",
    "import numpy as np\n",
    "import shutil"
   ]
  },
  {
   "cell_type": "code",
   "execution_count": 32,
   "metadata": {},
   "outputs": [],
   "source": [
    "with open(\"codes.txt\",\"r\") as c: \n",
    "    codes = c.readlines()"
   ]
  },
  {
   "cell_type": "markdown",
   "metadata": {},
   "source": [
    "1. Write a function that takes a string of this form, extracts the alphabetic code nnnnn and the extension and returns a string of the form nnnnn.extension. So, for example, given ‘35538_YLTRR_csv’ it returns ‘YLTRR.csv’."
   ]
  },
  {
   "cell_type": "code",
   "execution_count": 44,
   "metadata": {},
   "outputs": [],
   "source": [
    "#create function to extract the different pieces of the string\n",
    "def extension_extraction(str):\n",
    "    broken_into_pieces = str.split('_')\n",
    "    alphabetic_piece = broken_into_pieces[1]\n",
    "    extension_piece = broken_into_pieces[2]\n",
    "    \n",
    "    return f\"{alphabetic_piece}.{extension_piece}\""
   ]
  },
  {
   "cell_type": "code",
   "execution_count": 25,
   "metadata": {},
   "outputs": [
    {
     "data": {
      "text/plain": [
       "'ghfrw.py'"
      ]
     },
     "execution_count": 25,
     "metadata": {},
     "output_type": "execute_result"
    }
   ],
   "source": [
    "extension_extraction(\"43223_ghfrw_py\")"
   ]
  },
  {
   "cell_type": "markdown",
   "metadata": {},
   "source": [
    "2. Using your function, write code that reads in the entries from codes.txt and for each code writes the 5 digit number xxxxx into a file named nnnnn.extension constructed by your function in part 1. All of these files should be contained in a subdirectory of your main project directory called ‘expanded’. So for example, you would create a file called expanded/YLTRR.csv containing (just) 35538."
   ]
  },
  {
   "cell_type": "code",
   "execution_count": 42,
   "metadata": {},
   "outputs": [],
   "source": [
    "#establish expanded directory\n",
    "expanded_dir = \"expanded\"\n",
    "\n",
    "if not os.path.exists(expanded_dir):\n",
    "    os.makedirs(expanded_dir)\n"
   ]
  },
  {
   "cell_type": "code",
   "execution_count": 46,
   "metadata": {},
   "outputs": [],
   "source": [
    "#read in codes.txt entries and write them into files\n",
    "with open(\"codes.txt\", \"r\") as code_lines:\n",
    "    for line in code_lines:\n",
    "        line = line.strip()\n",
    "        all_pieces = extension_extraction(line)\n",
    "        numeric_piece = line.split('_')[0]\n",
    "        \n",
    "        filename = os.path.join(expanded_dir, all_pieces)\n",
    "     \n",
    "        with open(filename, 'w') as output:\n",
    "            output.write(numeric_piece)"
   ]
  }
 ],
 "metadata": {
  "kernelspec": {
   "display_name": "base",
   "language": "python",
   "name": "python3"
  },
  "language_info": {
   "codemirror_mode": {
    "name": "ipython",
    "version": 3
   },
   "file_extension": ".py",
   "mimetype": "text/x-python",
   "name": "python",
   "nbconvert_exporter": "python",
   "pygments_lexer": "ipython3",
   "version": "3.11.4"
  },
  "orig_nbformat": 4
 },
 "nbformat": 4,
 "nbformat_minor": 2
}

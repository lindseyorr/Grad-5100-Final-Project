{
 "cells": [
  {
   "cell_type": "code",
   "execution_count": 65,
   "metadata": {},
   "outputs": [],
   "source": [
    "import pandas as pd\n",
    "import os\n",
    "import numpy as np\n",
    "import matplotlib.pyplot as plt"
   ]
  },
  {
   "cell_type": "code",
   "execution_count": 48,
   "metadata": {},
   "outputs": [],
   "source": [
    "df = pd.DataFrame()\n",
    "df\n",
    "\n",
    "np.random.seed= 5100"
   ]
  },
  {
   "cell_type": "code",
   "execution_count": 49,
   "metadata": {},
   "outputs": [
    {
     "name": "stdout",
     "output_type": "stream",
     "text": [
      "['ID001', 'ID002', 'ID003', 'ID004', 'ID005', 'ID006', 'ID007', 'ID008', 'ID009', 'ID010']\n"
     ]
    }
   ],
   "source": [
    "#The ID feature is a unique identifier for each sample. The identifier has the form IDxxx where x is a three digit number\n",
    "#gen ID feature:\n",
    "ID = ['ID' + str(count).zfill(3) for count in range(1, 801)]\n",
    "print(ID[:10])"
   ]
  },
  {
   "cell_type": "code",
   "execution_count": 50,
   "metadata": {},
   "outputs": [],
   "source": [
    "#The Group feature is either A, B, or C. Roughly a third of each sample lies in each group.\n",
    "#gen group feature:\n",
    "group = np.random.choice(['A', 'B', 'C'], size=800,p=[1/3,1/3,1/3])\n",
    "#group"
   ]
  },
  {
   "cell_type": "code",
   "execution_count": 51,
   "metadata": {},
   "outputs": [],
   "source": [
    "#Feature_1 is sampled randomly from a normal distribution with mean 2500. About 66% of the data falls between 2200 and 2800\n",
    "#gen feature 1:\n",
    "feature_1 = np.random.normal(2500, 300, 800)\n",
    "#feature_1"
   ]
  },
  {
   "cell_type": "code",
   "execution_count": 52,
   "metadata": {},
   "outputs": [],
   "source": [
    "#Feature_2 is sampled randomly from a normal distribution with mean 400 and standard deviation 15.\n",
    "#gen feature 2:\n",
    "feature_2 = np.random.normal(400,15,800)"
   ]
  },
  {
   "cell_type": "code",
   "execution_count": 53,
   "metadata": {},
   "outputs": [
    {
     "data": {
      "text/html": [
       "<div>\n",
       "<style scoped>\n",
       "    .dataframe tbody tr th:only-of-type {\n",
       "        vertical-align: middle;\n",
       "    }\n",
       "\n",
       "    .dataframe tbody tr th {\n",
       "        vertical-align: top;\n",
       "    }\n",
       "\n",
       "    .dataframe thead th {\n",
       "        text-align: right;\n",
       "    }\n",
       "</style>\n",
       "<table border=\"1\" class=\"dataframe\">\n",
       "  <thead>\n",
       "    <tr style=\"text-align: right;\">\n",
       "      <th></th>\n",
       "      <th>ID</th>\n",
       "      <th>Group</th>\n",
       "      <th>Feature_1</th>\n",
       "      <th>Feature_2</th>\n",
       "    </tr>\n",
       "  </thead>\n",
       "  <tbody>\n",
       "    <tr>\n",
       "      <th>0</th>\n",
       "      <td>ID001</td>\n",
       "      <td>A</td>\n",
       "      <td>2271.633816</td>\n",
       "      <td>405.759941</td>\n",
       "    </tr>\n",
       "    <tr>\n",
       "      <th>1</th>\n",
       "      <td>ID002</td>\n",
       "      <td>C</td>\n",
       "      <td>1981.060658</td>\n",
       "      <td>390.586930</td>\n",
       "    </tr>\n",
       "    <tr>\n",
       "      <th>2</th>\n",
       "      <td>ID003</td>\n",
       "      <td>C</td>\n",
       "      <td>2632.633773</td>\n",
       "      <td>386.629261</td>\n",
       "    </tr>\n",
       "    <tr>\n",
       "      <th>3</th>\n",
       "      <td>ID004</td>\n",
       "      <td>B</td>\n",
       "      <td>2265.923681</td>\n",
       "      <td>392.719262</td>\n",
       "    </tr>\n",
       "    <tr>\n",
       "      <th>4</th>\n",
       "      <td>ID005</td>\n",
       "      <td>B</td>\n",
       "      <td>2633.822366</td>\n",
       "      <td>387.503389</td>\n",
       "    </tr>\n",
       "  </tbody>\n",
       "</table>\n",
       "</div>"
      ],
      "text/plain": [
       "      ID Group    Feature_1   Feature_2\n",
       "0  ID001     A  2271.633816  405.759941\n",
       "1  ID002     C  1981.060658  390.586930\n",
       "2  ID003     C  2632.633773  386.629261\n",
       "3  ID004     B  2265.923681  392.719262\n",
       "4  ID005     B  2633.822366  387.503389"
      ]
     },
     "execution_count": 53,
     "metadata": {},
     "output_type": "execute_result"
    }
   ],
   "source": [
    "df = pd.DataFrame({'ID': ID, 'Group': group, 'Feature_1': feature_1, 'Feature_2': feature_2})\n",
    "df.head()"
   ]
  },
  {
   "cell_type": "code",
   "execution_count": 54,
   "metadata": {},
   "outputs": [
    {
     "data": {
      "text/html": [
       "<div>\n",
       "<style scoped>\n",
       "    .dataframe tbody tr th:only-of-type {\n",
       "        vertical-align: middle;\n",
       "    }\n",
       "\n",
       "    .dataframe tbody tr th {\n",
       "        vertical-align: top;\n",
       "    }\n",
       "\n",
       "    .dataframe thead th {\n",
       "        text-align: right;\n",
       "    }\n",
       "</style>\n",
       "<table border=\"1\" class=\"dataframe\">\n",
       "  <thead>\n",
       "    <tr style=\"text-align: right;\">\n",
       "      <th></th>\n",
       "      <th>ID</th>\n",
       "      <th>Group</th>\n",
       "      <th>Feature_1</th>\n",
       "      <th>Feature_2</th>\n",
       "      <th>Feature_3</th>\n",
       "    </tr>\n",
       "  </thead>\n",
       "  <tbody>\n",
       "    <tr>\n",
       "      <th>226</th>\n",
       "      <td>ID227</td>\n",
       "      <td>A</td>\n",
       "      <td>2800.584729</td>\n",
       "      <td>394.559061</td>\n",
       "      <td>6444.447347</td>\n",
       "    </tr>\n",
       "    <tr>\n",
       "      <th>481</th>\n",
       "      <td>ID482</td>\n",
       "      <td>C</td>\n",
       "      <td>2943.384655</td>\n",
       "      <td>426.918269</td>\n",
       "      <td>-2495.363828</td>\n",
       "    </tr>\n",
       "    <tr>\n",
       "      <th>388</th>\n",
       "      <td>ID389</td>\n",
       "      <td>B</td>\n",
       "      <td>1958.573871</td>\n",
       "      <td>384.221248</td>\n",
       "      <td>3911.026676</td>\n",
       "    </tr>\n",
       "    <tr>\n",
       "      <th>405</th>\n",
       "      <td>ID406</td>\n",
       "      <td>A</td>\n",
       "      <td>2461.416269</td>\n",
       "      <td>386.800215</td>\n",
       "      <td>5434.930514</td>\n",
       "    </tr>\n",
       "    <tr>\n",
       "      <th>287</th>\n",
       "      <td>ID288</td>\n",
       "      <td>A</td>\n",
       "      <td>2962.436277</td>\n",
       "      <td>382.514390</td>\n",
       "      <td>6989.663341</td>\n",
       "    </tr>\n",
       "  </tbody>\n",
       "</table>\n",
       "</div>"
      ],
      "text/plain": [
       "        ID Group    Feature_1   Feature_2    Feature_3\n",
       "226  ID227     A  2800.584729  394.559061  6444.447347\n",
       "481  ID482     C  2943.384655  426.918269 -2495.363828\n",
       "388  ID389     B  1958.573871  384.221248  3911.026676\n",
       "405  ID406     A  2461.416269  386.800215  5434.930514\n",
       "287  ID288     A  2962.436277  382.514390  6989.663341"
      ]
     },
     "execution_count": 54,
     "metadata": {},
     "output_type": "execute_result"
    }
   ],
   "source": [
    "#Feature_3 depends on the Group feature. For A, Feature_3 is approximately 3(Feature_1)-5(Feature_2). \n",
    "#For B, Feature_3 is approximately 2(Feature_1). For C, Feature_3 is approximately -(Feature_1)+(Feature_2). \n",
    "#In each of cases A, B, and C the difference between Feature_3 and the value given by the formula is a normally distributed random variable\n",
    "# with mean 0 and standard deviation 1 \n",
    "\n",
    "randomize = np.random.normal(0, 12, 800)\n",
    "\n",
    "feature_3_a = (3 * feature_1) - (5 * feature_2) + randomize\n",
    "feature_3_b = (2 * feature_1) + randomize\n",
    "feature_3_c = (-feature_1 + feature_2) + randomize\n",
    "\n",
    "feature_3 = np.where(group == 'A', feature_3_a, np.where(group == 'B', feature_3_b, feature_3_c))\n",
    "\n",
    "df['Feature_3'] = feature_3\n",
    "df.sample(5)"
   ]
  },
  {
   "cell_type": "code",
   "execution_count": 64,
   "metadata": {},
   "outputs": [
    {
     "name": "stdout",
     "output_type": "stream",
     "text": [
      "Number of samples where Feature_1 is greater than 3000:  42 \n",
      "\n",
      "Mean of Feature_3 within each group:\n",
      " Group\n",
      "A    5407.771680\n",
      "B    5011.637792\n",
      "C   -2094.815882\n",
      "Name: Feature_3, dtype: float64\n",
      "Standard deviation of feature_3 within each group:\n",
      " Group\n",
      "A    906.155817\n",
      "B    602.504201\n",
      "C    318.580195\n",
      "Name: Feature_3, dtype: float64\n"
     ]
    },
    {
     "name": "stderr",
     "output_type": "stream",
     "text": [
      "/var/folders/6t/8gmdsscx139d24rs_nnb24g40000gn/T/ipykernel_4074/391942534.py:15: FutureWarning: The default value of numeric_only in DataFrameGroupBy.mean is deprecated. In a future version, numeric_only will default to False. Either specify numeric_only or select only columns which should be valid for the function.\n",
      "  print(\"Mean of Feature_3 within each group:\\n\",df.groupby('Group').mean()['Feature_3'])\n",
      "/var/folders/6t/8gmdsscx139d24rs_nnb24g40000gn/T/ipykernel_4074/391942534.py:16: FutureWarning: The default value of numeric_only in DataFrameGroupBy.std is deprecated. In a future version, numeric_only will default to False. Either specify numeric_only or select only columns which should be valid for the function.\n",
      "  print(\"Standard deviation of feature_3 within each group:\\n\",df.groupby('Group').std()['Feature_3'])\n"
     ]
    }
   ],
   "source": [
    "#2. Answer the following questions:\n",
    "\n",
    "#a. Based on the theoretical distribution of Feature_1, how many samples do you expect to find where the value of the feature is \n",
    "#greater than 3000?\n",
    "\n",
    "    #Ans: The value 3000 is within 2 standard deviations of the mean 2500, which is the area 95% of the samples will fall. Roughly 16% of the\n",
    "    #samples will be greater than the higher range of one standard deviation, and about 2.5% greater than the higher range of two standard\n",
    "    #deviations. Because the z-score of 3000 puts it at almost 2 standard deviations above the mean, I would expect more like 5% of the values\n",
    "    #to be greater than 3000, which is about 40 values.\n",
    "\n",
    "#b.  How many samples did you actually find where Feature_1 is greater than 3000?\n",
    "print(\"Number of samples where Feature_1 is greater than 3000: \",np.sum((df['Feature_1']>3000)),\"\\n\")\n",
    "\n",
    "#c. Group the dataset by the Group field and compute the mean and standard deviation of Feature_3 within each group\n",
    "print(\"Mean of Feature_3 within each group:\\n\",df.groupby('Group').mean()['Feature_3'])\n",
    "print(\"Standard deviation of feature_3 within each group:\\n\",df.groupby('Group').std()['Feature_3'])"
   ]
  },
  {
   "cell_type": "code",
   "execution_count": 73,
   "metadata": {},
   "outputs": [
    {
     "data": {
      "text/plain": [
       "<matplotlib.legend.Legend at 0x13773a110>"
      ]
     },
     "execution_count": 73,
     "metadata": {},
     "output_type": "execute_result"
    },
    {
     "data": {
      "image/png": "[encoded data removed]",
      "text/plain": [
       "<Figure size 1000x500 with 1 Axes>"
      ]
     },
     "metadata": {},
     "output_type": "display_data"
    }
   ],
   "source": [
    "#3. Make a scatterplot of Feature_3 vs Feature_1.\n",
    "\n",
    "fig = plt.figure(figsize=(10, 5))\n",
    "\n",
    "axes = fig.add_subplot(1, 1, 1)\n",
    "axes.grid(True)\n",
    "axes.set_xlabel(\"Feature_1\")\n",
    "axes.set_ylabel(\"Feature_3\")\n",
    "axes.set_title(\"Scatter Plot of Feature_3 vs Feature_1\")\n",
    "\n",
    "A = df[df['Group']=='A']\n",
    "B = df[df['Group']=='B']\n",
    "C = df[df['Group']=='C']\n",
    "\n",
    "A_plot = axes.scatter(\n",
    "    x=A[\"Feature_1\"], y=A[\"Feature_3\"], c=\"pink\", label=\"A\"\n",
    ")\n",
    "B_plot = axes.scatter(\n",
    "    x=B[\"Feature_1\"], y=B[\"Feature_3\"], c=\"purple\", label=\"B\"\n",
    ")\n",
    "C_plot = axes.scatter(\n",
    "    x=C[\"Feature_1\"], y=C[\"Feature_3\"], c=\"orange\", label=\"C\"\n",
    ")\n",
    "\n",
    "axes.legend([\"A\", \"B\",\"C\"],title=\"Group\")"
   ]
  },
  {
   "cell_type": "code",
   "execution_count": 72,
   "metadata": {},
   "outputs": [],
   "source": [
    "#4. Write your constructed dataframe/tibble to a csv file called fake_data.csv\n",
    "\n",
    "filename = 'fake_data.csv'\n",
    "df.to_csv(filename, sep=',', index=False, encoding='utf-8')"
   ]
  }
 ],
 "metadata": {
  "kernelspec": {
   "display_name": "base",
   "language": "python",
   "name": "python3"
  },
  "language_info": {
   "codemirror_mode": {
    "name": "ipython",
    "version": 3
   },
   "file_extension": ".py",
   "mimetype": "text/x-python",
   "name": "python",
   "nbconvert_exporter": "python",
   "pygments_lexer": "ipython3",
   "version": "3.11.4"
  },
  "orig_nbformat": 4
 },
 "nbformat": 4,
 "nbformat_minor": 2
}
